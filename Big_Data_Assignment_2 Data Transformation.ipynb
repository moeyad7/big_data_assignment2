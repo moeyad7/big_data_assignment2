{
  "cells": [
    {
      "cell_type": "markdown",
      "metadata": {
        "id": "cBmzR4ZUM12O"
      },
      "source": [
        "# Data Cleaning and Transformation"
      ]
    },
    {
      "cell_type": "code",
      "execution_count": 1,
      "metadata": {
        "id": "CWzoBDEiMgig"
      },
      "outputs": [],
      "source": [
        "import pandas as pd\n",
        "df = pd.read_csv('/content/music_streaming.csv')"
      ]
    },
    {
      "cell_type": "markdown",
      "metadata": {
        "id": "mMcmnRheN-aj"
      },
      "source": [
        "## a) Perform any necessary data cleaning & engineering that renders your data useable (i.e. handling missing values, duplicates, classification, transformation...etc.)"
      ]
    },
    {
      "cell_type": "markdown",
      "metadata": {
        "id": "kpy62HysQBi1"
      },
      "source": [
        "We first check which columns has null values"
      ]
    },
    {
      "cell_type": "code",
      "execution_count": 2,
      "metadata": {
        "colab": {
          "base_uri": "https://localhost:8080/"
        },
        "id": "nRJ4vfD5NykT",
        "outputId": "ddc9fd7f-746e-432a-f0ff-4e81a716a5f1"
      },
      "outputs": [
        {
          "output_type": "execute_result",
          "data": {
            "text/plain": [
              "Artist Name            0.000000\n",
              "Track Name             0.000000\n",
              "Popularity             2.412897\n",
              "danceability           0.000000\n",
              "energy                 0.000000\n",
              "key                   11.066043\n",
              "loudness               0.000000\n",
              "mode                   0.000000\n",
              "speechiness            0.000000\n",
              "acousticness           0.000000\n",
              "instrumentalness      22.766511\n",
              "liveness               0.000000\n",
              "valence                0.000000\n",
              "tempo                  0.010400\n",
              "duration_in min/ms     0.010400\n",
              "time_signature         0.010400\n",
              "Genre                  0.010400\n",
              "dtype: float64"
            ]
          },
          "metadata": {},
          "execution_count": 2
        }
      ],
      "source": [
        "percent_missing = df.isnull().sum() * 100 / len(df)\n",
        "percent_missing "
      ]
    },
    {
      "cell_type": "markdown",
      "metadata": {
        "id": "lXJqclFHQMDu"
      },
      "source": [
        "Then we remove dublicates"
      ]
    },
    {
      "cell_type": "code",
      "execution_count": 3,
      "metadata": {
        "id": "GlKC6iPPN1OC"
      },
      "outputs": [],
      "source": [
        "df = df.drop_duplicates()"
      ]
    },
    {
      "cell_type": "markdown",
      "metadata": {
        "id": "hh4kq38EQbac"
      },
      "source": [
        "Then we remove the key and instrumentalness columns as they have alot of null values which if predicted won't give an accurate result"
      ]
    },
    {
      "cell_type": "code",
      "execution_count": 4,
      "metadata": {
        "id": "Kh8fgZlpOgzD"
      },
      "outputs": [],
      "source": [
        "df.drop(['key',\"instrumentalness\"],axis=1,inplace=True)"
      ]
    },
    {
      "cell_type": "markdown",
      "metadata": {
        "id": "UtebNMCGWp-q"
      },
      "source": [
        "Now we will fill the null values in the popularity column using the mean of the popularity for each artist"
      ]
    },
    {
      "cell_type": "code",
      "execution_count": 5,
      "metadata": {
        "id": "VpbkDYXVTM5p"
      },
      "outputs": [],
      "source": [
        "df[\"Popularity\"] = df.groupby(\"Artist Name\").Popularity.transform(lambda x: x.fillna(x.mean()))"
      ]
    },
    {
      "cell_type": "code",
      "execution_count": 6,
      "metadata": {
        "colab": {
          "base_uri": "https://localhost:8080/"
        },
        "id": "3JUzoSmoQZH9",
        "outputId": "9b08cde5-6508-4bff-ec93-928dc0b133fb"
      },
      "outputs": [
        {
          "output_type": "execute_result",
          "data": {
            "text/plain": [
              "Artist Name           0.000000\n",
              "Track Name            0.000000\n",
              "Popularity            1.185647\n",
              "danceability          0.000000\n",
              "energy                0.000000\n",
              "loudness              0.000000\n",
              "mode                  0.000000\n",
              "speechiness           0.000000\n",
              "acousticness          0.000000\n",
              "liveness              0.000000\n",
              "valence               0.000000\n",
              "tempo                 0.010400\n",
              "duration_in min/ms    0.010400\n",
              "time_signature        0.010400\n",
              "Genre                 0.010400\n",
              "dtype: float64"
            ]
          },
          "metadata": {},
          "execution_count": 6
        }
      ],
      "source": [
        "percent_missing = df.isnull().sum() * 100 / len(df)\n",
        "percent_missing "
      ]
    },
    {
      "cell_type": "markdown",
      "metadata": {
        "id": "G_ZvtIVzW186"
      },
      "source": [
        "As we can see not all the null values were filled as some artists didn't have any values only null values so we couldn't get the mean therefore we will remove these records as they can't be predicted"
      ]
    },
    {
      "cell_type": "code",
      "execution_count": 7,
      "metadata": {
        "colab": {
          "base_uri": "https://localhost:8080/",
          "height": 231
        },
        "id": "4RhNrl63WaTJ",
        "outputId": "76af06b5-57f2-4e54-fd81-4ba1492ccbd7"
      },
      "outputs": [
        {
          "output_type": "execute_result",
          "data": {
            "text/plain": [
              "                 Artist Name Track Name  Popularity  danceability  energy  \\\n",
              "36  Lilly Wood and The Prick     A Song         NaN         0.618   0.438   \n",
              "\n",
              "    loudness  mode  speechiness  acousticness  liveness  valence    tempo  \\\n",
              "36    -7.495     1       0.0762         0.407       0.5    0.651  155.014   \n",
              "\n",
              "    duration_in min/ms  time_signature  Genre  \n",
              "36            209307.0             4.0    6.0  "
            ],
            "text/html": [
              "\n",
              "  <div id=\"df-3344aa07-b256-496b-9d8d-b22533bb1cf3\">\n",
              "    <div class=\"colab-df-container\">\n",
              "      <div>\n",
              "<style scoped>\n",
              "    .dataframe tbody tr th:only-of-type {\n",
              "        vertical-align: middle;\n",
              "    }\n",
              "\n",
              "    .dataframe tbody tr th {\n",
              "        vertical-align: top;\n",
              "    }\n",
              "\n",
              "    .dataframe thead th {\n",
              "        text-align: right;\n",
              "    }\n",
              "</style>\n",
              "<table border=\"1\" class=\"dataframe\">\n",
              "  <thead>\n",
              "    <tr style=\"text-align: right;\">\n",
              "      <th></th>\n",
              "      <th>Artist Name</th>\n",
              "      <th>Track Name</th>\n",
              "      <th>Popularity</th>\n",
              "      <th>danceability</th>\n",
              "      <th>energy</th>\n",
              "      <th>loudness</th>\n",
              "      <th>mode</th>\n",
              "      <th>speechiness</th>\n",
              "      <th>acousticness</th>\n",
              "      <th>liveness</th>\n",
              "      <th>valence</th>\n",
              "      <th>tempo</th>\n",
              "      <th>duration_in min/ms</th>\n",
              "      <th>time_signature</th>\n",
              "      <th>Genre</th>\n",
              "    </tr>\n",
              "  </thead>\n",
              "  <tbody>\n",
              "    <tr>\n",
              "      <th>36</th>\n",
              "      <td>Lilly Wood and The Prick</td>\n",
              "      <td>A Song</td>\n",
              "      <td>NaN</td>\n",
              "      <td>0.618</td>\n",
              "      <td>0.438</td>\n",
              "      <td>-7.495</td>\n",
              "      <td>1</td>\n",
              "      <td>0.0762</td>\n",
              "      <td>0.407</td>\n",
              "      <td>0.5</td>\n",
              "      <td>0.651</td>\n",
              "      <td>155.014</td>\n",
              "      <td>209307.0</td>\n",
              "      <td>4.0</td>\n",
              "      <td>6.0</td>\n",
              "    </tr>\n",
              "  </tbody>\n",
              "</table>\n",
              "</div>\n",
              "      <button class=\"colab-df-convert\" onclick=\"convertToInteractive('df-3344aa07-b256-496b-9d8d-b22533bb1cf3')\"\n",
              "              title=\"Convert this dataframe to an interactive table.\"\n",
              "              style=\"display:none;\">\n",
              "        \n",
              "  <svg xmlns=\"http://www.w3.org/2000/svg\" height=\"24px\"viewBox=\"0 0 24 24\"\n",
              "       width=\"24px\">\n",
              "    <path d=\"M0 0h24v24H0V0z\" fill=\"none\"/>\n",
              "    <path d=\"M18.56 5.44l.94 2.06.94-2.06 2.06-.94-2.06-.94-.94-2.06-.94 2.06-2.06.94zm-11 1L8.5 8.5l.94-2.06 2.06-.94-2.06-.94L8.5 2.5l-.94 2.06-2.06.94zm10 10l.94 2.06.94-2.06 2.06-.94-2.06-.94-.94-2.06-.94 2.06-2.06.94z\"/><path d=\"M17.41 7.96l-1.37-1.37c-.4-.4-.92-.59-1.43-.59-.52 0-1.04.2-1.43.59L10.3 9.45l-7.72 7.72c-.78.78-.78 2.05 0 2.83L4 21.41c.39.39.9.59 1.41.59.51 0 1.02-.2 1.41-.59l7.78-7.78 2.81-2.81c.8-.78.8-2.07 0-2.86zM5.41 20L4 18.59l7.72-7.72 1.47 1.35L5.41 20z\"/>\n",
              "  </svg>\n",
              "      </button>\n",
              "      \n",
              "  <style>\n",
              "    .colab-df-container {\n",
              "      display:flex;\n",
              "      flex-wrap:wrap;\n",
              "      gap: 12px;\n",
              "    }\n",
              "\n",
              "    .colab-df-convert {\n",
              "      background-color: #E8F0FE;\n",
              "      border: none;\n",
              "      border-radius: 50%;\n",
              "      cursor: pointer;\n",
              "      display: none;\n",
              "      fill: #1967D2;\n",
              "      height: 32px;\n",
              "      padding: 0 0 0 0;\n",
              "      width: 32px;\n",
              "    }\n",
              "\n",
              "    .colab-df-convert:hover {\n",
              "      background-color: #E2EBFA;\n",
              "      box-shadow: 0px 1px 2px rgba(60, 64, 67, 0.3), 0px 1px 3px 1px rgba(60, 64, 67, 0.15);\n",
              "      fill: #174EA6;\n",
              "    }\n",
              "\n",
              "    [theme=dark] .colab-df-convert {\n",
              "      background-color: #3B4455;\n",
              "      fill: #D2E3FC;\n",
              "    }\n",
              "\n",
              "    [theme=dark] .colab-df-convert:hover {\n",
              "      background-color: #434B5C;\n",
              "      box-shadow: 0px 1px 3px 1px rgba(0, 0, 0, 0.15);\n",
              "      filter: drop-shadow(0px 1px 2px rgba(0, 0, 0, 0.3));\n",
              "      fill: #FFFFFF;\n",
              "    }\n",
              "  </style>\n",
              "\n",
              "      <script>\n",
              "        const buttonEl =\n",
              "          document.querySelector('#df-3344aa07-b256-496b-9d8d-b22533bb1cf3 button.colab-df-convert');\n",
              "        buttonEl.style.display =\n",
              "          google.colab.kernel.accessAllowed ? 'block' : 'none';\n",
              "\n",
              "        async function convertToInteractive(key) {\n",
              "          const element = document.querySelector('#df-3344aa07-b256-496b-9d8d-b22533bb1cf3');\n",
              "          const dataTable =\n",
              "            await google.colab.kernel.invokeFunction('convertToInteractive',\n",
              "                                                     [key], {});\n",
              "          if (!dataTable) return;\n",
              "\n",
              "          const docLinkHtml = 'Like what you see? Visit the ' +\n",
              "            '<a target=\"_blank\" href=https://colab.research.google.com/notebooks/data_table.ipynb>data table notebook</a>'\n",
              "            + ' to learn more about interactive tables.';\n",
              "          element.innerHTML = '';\n",
              "          dataTable['output_type'] = 'display_data';\n",
              "          await google.colab.output.renderOutput(dataTable, element);\n",
              "          const docLink = document.createElement('div');\n",
              "          docLink.innerHTML = docLinkHtml;\n",
              "          element.appendChild(docLink);\n",
              "        }\n",
              "      </script>\n",
              "    </div>\n",
              "  </div>\n",
              "  "
            ]
          },
          "metadata": {},
          "execution_count": 7
        }
      ],
      "source": [
        "df[df['Artist Name'] == 'Lilly Wood and The Prick']"
      ]
    },
    {
      "cell_type": "code",
      "execution_count": 8,
      "metadata": {
        "id": "Nh5MR_9BR411"
      },
      "outputs": [],
      "source": [
        "df = df.dropna()"
      ]
    },
    {
      "cell_type": "markdown",
      "metadata": {
        "id": "re6AvIt2XWAx"
      },
      "source": [
        "Now all our data is clean and doesn't have any dublicates or null values"
      ]
    },
    {
      "cell_type": "code",
      "execution_count": 9,
      "metadata": {
        "colab": {
          "base_uri": "https://localhost:8080/"
        },
        "id": "uj7fyD6kWBUJ",
        "outputId": "321053bb-1150-46c1-83e8-229da51513cb"
      },
      "outputs": [
        {
          "output_type": "execute_result",
          "data": {
            "text/plain": [
              "Artist Name           0.0\n",
              "Track Name            0.0\n",
              "Popularity            0.0\n",
              "danceability          0.0\n",
              "energy                0.0\n",
              "loudness              0.0\n",
              "mode                  0.0\n",
              "speechiness           0.0\n",
              "acousticness          0.0\n",
              "liveness              0.0\n",
              "valence               0.0\n",
              "tempo                 0.0\n",
              "duration_in min/ms    0.0\n",
              "time_signature        0.0\n",
              "Genre                 0.0\n",
              "dtype: float64"
            ]
          },
          "metadata": {},
          "execution_count": 9
        }
      ],
      "source": [
        "percent_missing = df.isnull().sum() * 100 / len(df)\n",
        "percent_missing "
      ]
    },
    {
      "cell_type": "markdown",
      "metadata": {
        "id": "NH06FieicT2E"
      },
      "source": [
        "* Now we will convert the milisecond values in duration_in min/ms column to minutes\n",
        "\n",
        "* We will convert each value that is greater than 10 to minutes by dividing it by 60000 and add it to a new column called duration_in_min\n",
        "\n",
        "* Then we will remove any value that is greater than 10 minutes or samller than 30 seconds\n",
        "\n",
        "* Then we drop the duration_in min/ms column as we don't need it anymore"
      ]
    },
    {
      "cell_type": "code",
      "execution_count": 10,
      "metadata": {
        "id": "j0fhp410cSii"
      },
      "outputs": [],
      "source": [
        "duration_in_min = []\n",
        "\n",
        "for row in df['duration_in min/ms']:\n",
        "  if(row > 10):\n",
        "    duration_in_min.append(row/60000)\n",
        "  else:\n",
        "    duration_in_min.append(row)\n",
        "\n",
        "df['duration_in_min'] = duration_in_min\n"
      ]
    },
    {
      "cell_type": "code",
      "execution_count": 11,
      "metadata": {
        "id": "FsgG1QTBdT0H"
      },
      "outputs": [],
      "source": [
        "df = df[ (df['duration_in_min']< 10) | (df['duration_in_min'] > 0.5) ]"
      ]
    },
    {
      "cell_type": "code",
      "execution_count": 12,
      "metadata": {
        "id": "wlfm3-WPgCva"
      },
      "outputs": [],
      "source": [
        "df.drop('duration_in min/ms',axis=1,inplace=True)"
      ]
    },
    {
      "cell_type": "markdown",
      "metadata": {
        "id": "JdCDw1NkhJ_B"
      },
      "source": [
        "Now we will rename the columns that have spaces in there names to be able to use them in SQL"
      ]
    },
    {
      "cell_type": "code",
      "execution_count": 14,
      "metadata": {
        "id": "nWpOOBJJhTCc"
      },
      "outputs": [],
      "source": [
        "df.rename(columns={'Artist Name': 'Artist_Name',\n",
        "                   'Track Name': 'Track_Name',},\n",
        "          inplace=True, errors='raise')"
      ]
    },
    {
      "cell_type": "markdown",
      "source": [],
      "metadata": {
        "id": "pExrA7Bo-RHD"
      }
    },
    {
      "cell_type": "markdown",
      "source": [
        "Now we will export our dataframe to use it in the other 2 notebooks for SparkSQL and SparkDataframe"
      ],
      "metadata": {
        "id": "EIhcz5N5-RYp"
      }
    },
    {
      "cell_type": "code",
      "source": [
        "df.to_csv('music_transformed.csv')"
      ],
      "metadata": {
        "id": "u9NM-PIT-NQO"
      },
      "execution_count": 15,
      "outputs": []
    }
  ],
  "metadata": {
    "colab": {
      "provenance": []
    },
    "kernelspec": {
      "display_name": "Python 3",
      "name": "python3"
    },
    "language_info": {
      "name": "python"
    }
  },
  "nbformat": 4,
  "nbformat_minor": 0
}