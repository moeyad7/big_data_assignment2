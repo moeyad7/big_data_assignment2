{
  "cells": [
    {
      "cell_type": "code",
      "execution_count": 2,
      "metadata": {
        "colab": {
          "base_uri": "https://localhost:8080/"
        },
        "id": "_3MWj_7y322F",
        "outputId": "ac6dd741-942d-43f7-8594-cefc634a189d"
      },
      "outputs": [],
      "source": [
        "# # Installing required packages\n",
        "# !pip install pyspark\n",
        "# !pip install findspark\n",
        "# !pip install pandas"
      ]
    },
    {
      "cell_type": "code",
      "execution_count": 3,
      "metadata": {
        "id": "ZTbE2NAq4Aon"
      },
      "outputs": [],
      "source": [
        "import findspark\n",
        "findspark.init()"
      ]
    },
    {
      "cell_type": "code",
      "execution_count": 4,
      "metadata": {
        "id": "_QqNO1ld4Dgm"
      },
      "outputs": [],
      "source": [
        "import pandas as pd\n",
        "import numpy as np\n",
        "from pyspark import SparkContext, SparkConf\n",
        "from pyspark.sql import SparkSession"
      ]
    },
    {
      "cell_type": "code",
      "execution_count": 5,
      "metadata": {
        "id": "winrW9ur4GH6"
      },
      "outputs": [],
      "source": [
        "# Creating a spark context class\n",
        "sc = SparkContext()\n",
        "\n",
        "# Creating a spark session\n",
        "spark = SparkSession \\\n",
        "    .builder \\\n",
        "    .appName(\"Python Spark DataFrames basic example\") \\\n",
        "    .config(\"spark.some.config.option\", \"some-value\") \\\n",
        "    .getOrCreate()"
      ]
    },
    {
      "cell_type": "code",
      "execution_count": 6,
      "metadata": {
        "colab": {
          "base_uri": "https://localhost:8080/",
          "height": 219
        },
        "id": "WJxDmlq74I66",
        "outputId": "ee7064d1-8ffb-4e84-d232-bc03c33d01a7"
      },
      "outputs": [
        {
          "data": {
            "text/html": [
              "\n",
              "            <div>\n",
              "                <p><b>SparkSession - in-memory</b></p>\n",
              "                \n",
              "        <div>\n",
              "            <p><b>SparkContext</b></p>\n",
              "\n",
              "            <p><a href=\"http://LAPTOP-MPVJ0KUP:4040\">Spark UI</a></p>\n",
              "\n",
              "            <dl>\n",
              "              <dt>Version</dt>\n",
              "                <dd><code>v3.4.0</code></dd>\n",
              "              <dt>Master</dt>\n",
              "                <dd><code>local[*]</code></dd>\n",
              "              <dt>AppName</dt>\n",
              "                <dd><code>Python Spark DataFrames basic example</code></dd>\n",
              "            </dl>\n",
              "        </div>\n",
              "        \n",
              "            </div>\n",
              "        "
            ],
            "text/plain": [
              "<pyspark.sql.session.SparkSession at 0x246735b45b0>"
            ]
          },
          "execution_count": 6,
          "metadata": {},
          "output_type": "execute_result"
        }
      ],
      "source": [
        "spark"
      ]
    },
    {
      "cell_type": "code",
      "execution_count": 7,
      "metadata": {
        "id": "N3oPcL4x4KW2"
      },
      "outputs": [],
      "source": [
        "music = pd.read_csv('music_transformed.csv')\n",
        "sdf = spark.createDataFrame(music) "
      ]
    },
    {
      "cell_type": "code",
      "execution_count": 8,
      "metadata": {
        "colab": {
          "base_uri": "https://localhost:8080/"
        },
        "id": "vSN4ccZ84UTG",
        "outputId": "514538b0-5b5b-4087-d33b-55a7780ba6fd"
      },
      "outputs": [
        {
          "name": "stdout",
          "output_type": "stream",
          "text": [
            "root\n",
            " |-- Unnamed: 0: long (nullable = true)\n",
            " |-- Artist_Name: string (nullable = true)\n",
            " |-- Track_Name: string (nullable = true)\n",
            " |-- Popularity: double (nullable = true)\n",
            " |-- danceability: double (nullable = true)\n",
            " |-- energy: double (nullable = true)\n",
            " |-- loudness: double (nullable = true)\n",
            " |-- mode: long (nullable = true)\n",
            " |-- speechiness: double (nullable = true)\n",
            " |-- acousticness: double (nullable = true)\n",
            " |-- liveness: double (nullable = true)\n",
            " |-- valence: double (nullable = true)\n",
            " |-- tempo: double (nullable = true)\n",
            " |-- time_signature: double (nullable = true)\n",
            " |-- Genre: double (nullable = true)\n",
            " |-- duration_in_min: double (nullable = true)\n",
            "\n"
          ]
        }
      ],
      "source": [
        "sdf.printSchema()"
      ]
    },
    {
      "cell_type": "code",
      "execution_count": 9,
      "metadata": {
        "id": "UPR4EDGc4Vgh"
      },
      "outputs": [],
      "source": [
        "sdf.createOrReplaceTempView(\"music\")"
      ]
    },
    {
      "cell_type": "markdown",
      "metadata": {
        "id": "eMLTcJat4dLt"
      },
      "source": [
        "## b) Remove any songs that exceed 5 minutes"
      ]
    },
    {
      "cell_type": "code",
      "execution_count": 10,
      "metadata": {
        "colab": {
          "base_uri": "https://localhost:8080/"
        },
        "id": "KYy_-ZjC4W6t",
        "outputId": "2a08f23b-3352-4816-ae29-098dd50eda44"
      },
      "outputs": [
        {
          "name": "stdout",
          "output_type": "stream",
          "text": [
            "+----------+--------------------+--------------------+----------+------------+------+--------+----+-----------+------------+--------+-------+-------+--------------+-----+------------------+\n",
            "|Unnamed: 0|         Artist_Name|          Track_Name|Popularity|danceability|energy|loudness|mode|speechiness|acousticness|liveness|valence|  tempo|time_signature|Genre|   duration_in_min|\n",
            "+----------+--------------------+--------------------+----------+------------+------+--------+----+-----------+------------+--------+-------+-------+--------------+-----+------------------+\n",
            "|         0|          Bruno Mars|That's What I Lik...|      60.0|       0.854| 0.564|  -4.964|   1|     0.0485|      0.0171|  0.0849|  0.899|134.071|           4.0|  5.0|3.9099333333333335|\n",
            "|         1|              Boston|        Hitch a Ride|      54.0|       0.382| 0.814|   -7.23|   1|     0.0406|      0.0011|   0.101|  0.569|116.454|           4.0| 10.0|           4.19555|\n",
            "|         2|       The Raincoats|  No Side to Fall In|      35.0|       0.434| 0.614|  -8.334|   1|     0.0525|       0.486|   0.394|  0.787|147.681|           4.0|  6.0| 1.827783333333333|\n",
            "|         3|                Deno|Lingo (feat. J.I ...|      66.0|       0.853| 0.597|  -6.528|   0|     0.0555|      0.0212|   0.122|  0.569|107.033|           4.0|  5.0| 2.899466666666666|\n",
            "|         4|Red Hot Chili Pep...|Nobody Weird Like...|      53.0|       0.167| 0.975|  -4.279|   1|      0.216|     1.69E-4|   0.172| 0.0918| 199.06|           4.0| 10.0| 3.832666666666667|\n",
            "|         5|         The Stooges|Search and Destro...|      53.0|       0.235| 0.977|   0.878|   1|      0.107|     0.00353|   0.172|  0.241|152.952|           4.0|  6.0|3.4688833333333333|\n",
            "|         7|        Randy Travis|   On the Other Hand|      55.0|       0.657| 0.415|  -9.915|   1|      0.025|       0.175|   0.132|  0.347|  96.03|           4.0|  4.0|       3.105783333|\n",
            "|         8|Professional Murd...|                Slow|      29.0|       0.431| 0.776|  -5.403|   1|     0.0527|     2.21E-5|   0.179|  0.318|120.857|           4.0|  8.0|           3.96445|\n",
            "|         9|       Mohammed Rafi|Meri Dosti Mera Pyar|      11.0|       0.491| 0.563|  -8.588|   0|     0.0331|       0.957|   0.263|  0.843| 95.558|           4.0|  3.0|           4.33045|\n",
            "|        10|      Arctic Monkeys|The View From The...|      59.0|       0.387| 0.922|  -5.192|   0|     0.0674|     0.00487|   0.187|  0.417|146.478|           4.0| 10.0| 3.715783333333333|\n",
            "+----------+--------------------+--------------------+----------+------------+------+--------+----+-----------+------------+--------+-------+-------+--------------+-----+------------------+\n",
            "only showing top 10 rows\n",
            "\n"
          ]
        }
      ],
      "source": [
        "sdf1 = spark.sql(\"\"\"\n",
        "SELECT *\n",
        "FROM music\n",
        "WHERE duration_in_min < 5\n",
        "\"\"\")\n",
        "\n",
        "sdf1.show(10)"
      ]
    },
    {
      "cell_type": "code",
      "execution_count": 11,
      "metadata": {
        "id": "tc0lf4l_4awc"
      },
      "outputs": [],
      "source": [
        "spark.catalog.dropTempView(\"music\")\n",
        "sdf1.createOrReplaceTempView(\"music\")"
      ]
    },
    {
      "cell_type": "markdown",
      "metadata": {
        "id": "YiDkIa_a4hgN"
      },
      "source": [
        "## c) Display songs by J. Cole, Novo Amor and Anson Seabra"
      ]
    },
    {
      "cell_type": "code",
      "execution_count": 12,
      "metadata": {
        "colab": {
          "base_uri": "https://localhost:8080/"
        },
        "id": "4QawjjFc4azs",
        "outputId": "e2a9e7f9-bdaf-415e-c92d-cfc27ee28719"
      },
      "outputs": [
        {
          "name": "stdout",
          "output_type": "stream",
          "text": [
            "+----------+-----------+--------------------+----------+------------+------+--------+----+-----------+------------+--------+-------+-------+--------------+-----+------------------+\n",
            "|Unnamed: 0|Artist_Name|          Track_Name|Popularity|danceability|energy|loudness|mode|speechiness|acousticness|liveness|valence|  tempo|time_signature|Genre|   duration_in_min|\n",
            "+----------+-----------+--------------------+----------+------------+------+--------+----+-----------+------------+--------+-------+-------+--------------+-----+------------------+\n",
            "|      1525|    J. Cole|p u n c h i n ‚Äò...|      81.0|       0.769|  0.74|  -6.579|   0|      0.378|       0.197|   0.171|  0.692| 94.104|           4.0|  5.0|1.8763166666666664|\n",
            "|      2497|    J. Cole|p r i d e . i s ....|      85.0|       0.861| 0.656|  -7.867|   0|      0.425|       0.104|  0.0986|  0.331| 88.967|           4.0|  5.0| 3.636833333333333|\n",
            "|      4051|    J. Cole|   i n t e r l u d e|      81.0|        0.77| 0.574|  -5.525|   1|      0.106|      0.0617|   0.104|  0.104| 98.962|           3.0|  5.0| 2.217033333333333|\n",
            "|      4780|    J. Cole|m y . l i f e (wi...|      86.0|       0.597| 0.587|  -7.026|   0|      0.137|      0.0622|   0.214| 0.0753|140.021|           4.0|  9.0|            3.6467|\n",
            "+----------+-----------+--------------------+----------+------------+------+--------+----+-----------+------------+--------+-------+-------+--------------+-----+------------------+\n",
            "\n"
          ]
        }
      ],
      "source": [
        "spark.sql(\"\"\"\n",
        "SELECT *\n",
        "FROM music\n",
        "WHERE Artist_Name = \"J. Cole\" OR Artist_Name = \"Novo Amor\" OR Artist_Name = \"Anson Seabra\"\n",
        "\"\"\").show(10)"
      ]
    },
    {
      "cell_type": "markdown",
      "metadata": {
        "id": "cYik8e5h4a2w"
      },
      "source": [
        "## d) How many songs are included in every category?"
      ]
    },
    {
      "cell_type": "code",
      "execution_count": 13,
      "metadata": {
        "colab": {
          "base_uri": "https://localhost:8080/"
        },
        "id": "YaX8LnS_4a-C",
        "outputId": "a5b762d5-a80a-462b-bd68-e4c008d7c8f6"
      },
      "outputs": [
        {
          "name": "stdout",
          "output_type": "stream",
          "text": [
            "+-----+---------------+\n",
            "|Genre|Number_of_songs|\n",
            "+-----+---------------+\n",
            "|  8.0|            772|\n",
            "|  0.0|            301|\n",
            "|  7.0|            201|\n",
            "|  1.0|            698|\n",
            "|  4.0|            207|\n",
            "|  3.0|            140|\n",
            "|  2.0|            579|\n",
            "| 10.0|           2235|\n",
            "|  6.0|           1225|\n",
            "|  5.0|            681|\n",
            "|  9.0|           1079|\n",
            "+-----+---------------+\n",
            "\n"
          ]
        }
      ],
      "source": [
        "spark.sql(\"\"\"\n",
        "SELECT Genre,Count(*) AS Number_of_songs\n",
        "FROM music\n",
        "GROUP BY Genre\n",
        "\"\"\").show()"
      ]
    },
    {
      "cell_type": "markdown",
      "metadata": {
        "id": "pEQkLkX04yME"
      },
      "source": [
        "## e) Which artists dominated the charts?"
      ]
    },
    {
      "cell_type": "code",
      "execution_count": 14,
      "metadata": {
        "colab": {
          "base_uri": "https://localhost:8080/"
        },
        "id": "qEFkZUBR4bAa",
        "outputId": "80db156a-eb16-4586-8071-e0dbb497c108"
      },
      "outputs": [
        {
          "name": "stdout",
          "output_type": "stream",
          "text": [
            "+--------------------+---------------+------------------+\n",
            "|         Artist_Name|Number_of_Songs|Average_Popularity|\n",
            "+--------------------+---------------+------------------+\n",
            "|       Doja Cat, SZA|              1|              95.0|\n",
            "|Justin Bieber, Da...|              1|              95.0|\n",
            "|     Los Legendarios|              1|              95.0|\n",
            "|The Weeknd, Arian...|              1|              94.0|\n",
            "|               Riton|              1|              94.0|\n",
            "|          The Weeknd|              2|              93.5|\n",
            "|Riton, Nightcrawl...|              1|              92.0|\n",
            "|          Tion Wayne|              2|              90.0|\n",
            "|             Cardi B|              1|              90.0|\n",
            "|                 SZA|              2|              89.0|\n",
            "|Galantis, David G...|              1|              89.0|\n",
            "|  Majestic, Boney M.|              1|              89.0|\n",
            "|       The Kid LAROI|              2|              88.5|\n",
            "|    Trinidad Cardona|              1|              88.0|\n",
            "|     ATB, Topic, A7S|              1|              88.0|\n",
            "|            Majestic|              1|              88.0|\n",
            "|          Conan Gray|              1|              88.0|\n",
            "|        Bella Poarch|              2|              87.0|\n",
            "|            Ofenbach|              1|              87.0|\n",
            "|   The Neighbourhood|              1|              87.0|\n",
            "+--------------------+---------------+------------------+\n",
            "only showing top 20 rows\n",
            "\n"
          ]
        }
      ],
      "source": [
        "spark.sql(\"\"\"\n",
        "SELECT Artist_Name,Count(*) AS Number_of_Songs ,Avg(Popularity) AS Average_Popularity\n",
        "FROM music\n",
        "GROUP BY Artist_Name\n",
        "ORDER BY Average_Popularity DESC,Number_of_Songs DESC\n",
        "\"\"\").show()"
      ]
    },
    {
      "cell_type": "code",
      "execution_count": 15,
      "metadata": {
        "colab": {
          "base_uri": "https://localhost:8080/"
        },
        "id": "M3vgT6X34bDW",
        "outputId": "6bb751dc-f765-4912-b36f-9562dd770993"
      },
      "outputs": [
        {
          "name": "stdout",
          "output_type": "stream",
          "text": [
            "+--------------------+------------------+---------------+\n",
            "|         Artist_Name|Average_Popularity|Number_of_Songs|\n",
            "+--------------------+------------------+---------------+\n",
            "|     Backstreet Boys| 36.65714285714286|             35|\n",
            "|      Britney Spears| 50.56902356902357|             27|\n",
            "|            Westlife| 7.692307692307693|             26|\n",
            "|  The Rolling Stones| 48.38257575757575|             22|\n",
            "|         The Beatles| 68.11111111111111|             15|\n",
            "|             Nirvana| 64.21428571428571|             14|\n",
            "|       Fleetwood Mac|60.714285714285715|             14|\n",
            "|                  U2|             58.75|             12|\n",
            "|     Lata Mangeshkar|13.904761904761905|             12|\n",
            "|               AC/DC| 67.81818181818181|             11|\n",
            "|      The Black Keys|              57.0|             11|\n",
            "|      Arctic Monkeys|              70.0|             10|\n",
            "|   Cage The Elephant|              66.3|             10|\n",
            "|         The Killers| 64.66666666666667|             10|\n",
            "|          Arlo Parks|              58.4|             10|\n",
            "|The Smashing Pump...|              56.5|             10|\n",
            "|King Gizzard & Th...|              52.2|             10|\n",
            "|   Young Stoner Life| 75.66666666666667|              9|\n",
            "|Creedence Clearwa...| 66.87654320987654|              9|\n",
            "|            Deftones|58.111111111111114|              9|\n",
            "+--------------------+------------------+---------------+\n",
            "only showing top 20 rows\n",
            "\n"
          ]
        }
      ],
      "source": [
        "spark.sql(\"\"\"\n",
        "SELECT Artist_Name,Avg(Popularity) AS Average_Popularity,Count(*) AS Number_of_Songs\n",
        "FROM music\n",
        "GROUP BY Artist_Name\n",
        "ORDER BY Number_of_Songs DESC,Average_Popularity DESC\n",
        "\"\"\").show()"
      ]
    },
    {
      "cell_type": "markdown",
      "metadata": {
        "id": "3RqZiv2643QM"
      },
      "source": [
        "## f) What songs would be considered for the “Billboard Top 10 Songs of the Year”? (mention their artists as well)"
      ]
    },
    {
      "cell_type": "code",
      "execution_count": 16,
      "metadata": {
        "colab": {
          "base_uri": "https://localhost:8080/"
        },
        "id": "jIqd4d5j43se",
        "outputId": "96e0a68d-d282-4226-f63e-995e94e5dc0c"
      },
      "outputs": [
        {
          "name": "stdout",
          "output_type": "stream",
          "text": [
            "+--------------------+--------------------+----------+\n",
            "|          Track_Name|         Artist_Name|Popularity|\n",
            "+--------------------+--------------------+----------+\n",
            "|            good 4 u|      Olivia Rodrigo|      99.0|\n",
            "|Kiss Me More (fea...|            Doja Cat|      98.0|\n",
            "|Astronaut In The ...|         Masked Wolf|      97.0|\n",
            "|              Butter|                 BTS|      96.0|\n",
            "|             deja vu|      Olivia Rodrigo|      95.0|\n",
            "| Permission to Dance|                 BTS|      95.0|\n",
            "|Peaches (feat. Da...|Justin Bieber, Da...|      95.0|\n",
            "|Kiss Me More (fea...|       Doja Cat, SZA|      95.0|\n",
            "|                Fiel|     Los Legendarios|      95.0|\n",
            "|             traitor|      Olivia Rodrigo|      94.0|\n",
            "+--------------------+--------------------+----------+\n",
            "\n"
          ]
        }
      ],
      "source": [
        "spark.sql(\"\"\"\n",
        "SELECT DISTINCT Track_Name,Artist_Name,Popularity\n",
        "FROM music\n",
        "ORDER BY Popularity DESC,Track_Name DESC\n",
        "LIMIT 10\n",
        "\"\"\").show()"
      ]
    },
    {
      "cell_type": "markdown",
      "metadata": {
        "id": "x3lr6JdF45h4"
      },
      "source": [
        "### g) Recommend at least 5 songs that can be played at a party !!!!(need works)!!!!"
      ]
    },
    {
      "cell_type": "code",
      "execution_count": 17,
      "metadata": {
        "colab": {
          "base_uri": "https://localhost:8080/"
        },
        "id": "XV6WZh-f45kx",
        "outputId": "b195b95c-711b-4f83-9e3d-1112d00298c6"
      },
      "outputs": [
        {
          "name": "stdout",
          "output_type": "stream",
          "text": [
            "+--------------------+--------------------+------------+----------+------+--------+\n",
            "|          Track_Name|         Artist_Name|danceability|Popularity|energy|loudness|\n",
            "+--------------------+--------------------+------------+----------+------+--------+\n",
            "|  Dancing in My Room|            347aidan|        0.98|      82.0| 0.413| -11.052|\n",
            "|  Dancing in My Room|            347aidan|       0.979|       3.0|  0.41| -11.056|\n",
            "|    OG Bobby Johnson|                QUE.|       0.974|      41.0| 0.972|  -3.879|\n",
            "|        The Get Back|        Flipp Dinero|       0.968|      57.0| 0.518|  -6.674|\n",
            "|SexyBack (feat. T...|   Justin Timberlake|       0.967|      80.0| 0.583|  -5.562|\n",
            "|SexyBack (feat. T...|Justin Timberlake...|       0.967|      78.0| 0.583|  -5.562|\n",
            "|Suspense Is Killi...|           Boy 8-Bit|       0.962|      19.0| 0.253| -11.178|\n",
            "|          Step It Up|               Latto|       0.961|      59.0| 0.617|   -5.76|\n",
            "|            Titanium|                Dave|       0.959|      77.0| 0.394|  -8.687|\n",
            "|                Talk|         Renni Rucci|       0.957|      62.0| 0.515|  -6.995|\n",
            "+--------------------+--------------------+------------+----------+------+--------+\n",
            "\n"
          ]
        }
      ],
      "source": [
        "spark.sql(\"\"\"\n",
        "SELECT DISTINCT Track_Name,Artist_Name, danceability ,Popularity ,energy ,loudness \n",
        "FROM music  \n",
        "ORDER BY danceability DESC,Popularity DESC,energy DESC,loudness DESC\n",
        "LIMIT 10\n",
        "\"\"\").show()"
      ]
    },
    {
      "cell_type": "code",
      "execution_count": null,
      "metadata": {
        "id": "TOm0c_LcGI17"
      },
      "outputs": [],
      "source": []
    }
  ],
  "metadata": {
    "colab": {
      "provenance": []
    },
    "kernelspec": {
      "display_name": "Python 3",
      "name": "python3"
    },
    "language_info": {
      "codemirror_mode": {
        "name": "ipython",
        "version": 3
      },
      "file_extension": ".py",
      "mimetype": "text/x-python",
      "name": "python",
      "nbconvert_exporter": "python",
      "pygments_lexer": "ipython3",
      "version": "3.9.13"
    }
  },
  "nbformat": 4,
  "nbformat_minor": 0
}
