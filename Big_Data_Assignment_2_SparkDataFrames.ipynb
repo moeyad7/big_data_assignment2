{
  "nbformat": 4,
  "nbformat_minor": 0,
  "metadata": {
    "colab": {
      "provenance": []
    },
    "kernelspec": {
      "name": "python3",
      "display_name": "Python 3"
    },
    "language_info": {
      "name": "python"
    }
  },
  "cells": [
    {
      "cell_type": "code",
      "execution_count": 54,
      "metadata": {
        "colab": {
          "base_uri": "https://localhost:8080/"
        },
        "id": "YPNBYPtN8mTL",
        "outputId": "e98fc831-fe6f-4d3a-c00c-078571074e8f"
      },
      "outputs": [
        {
          "output_type": "stream",
          "name": "stdout",
          "text": [
            "Looking in indexes: https://pypi.org/simple, https://us-python.pkg.dev/colab-wheels/public/simple/\n",
            "Requirement already satisfied: pyspark in /usr/local/lib/python3.10/dist-packages (3.4.0)\n",
            "Requirement already satisfied: py4j==0.10.9.7 in /usr/local/lib/python3.10/dist-packages (from pyspark) (0.10.9.7)\n",
            "Looking in indexes: https://pypi.org/simple, https://us-python.pkg.dev/colab-wheels/public/simple/\n",
            "Requirement already satisfied: findspark in /usr/local/lib/python3.10/dist-packages (2.0.1)\n",
            "Looking in indexes: https://pypi.org/simple, https://us-python.pkg.dev/colab-wheels/public/simple/\n",
            "Requirement already satisfied: pandas in /usr/local/lib/python3.10/dist-packages (1.5.3)\n",
            "Requirement already satisfied: python-dateutil>=2.8.1 in /usr/local/lib/python3.10/dist-packages (from pandas) (2.8.2)\n",
            "Requirement already satisfied: pytz>=2020.1 in /usr/local/lib/python3.10/dist-packages (from pandas) (2022.7.1)\n",
            "Requirement already satisfied: numpy>=1.21.0 in /usr/local/lib/python3.10/dist-packages (from pandas) (1.22.4)\n",
            "Requirement already satisfied: six>=1.5 in /usr/local/lib/python3.10/dist-packages (from python-dateutil>=2.8.1->pandas) (1.16.0)\n"
          ]
        }
      ],
      "source": [
        "# Installing required packages\n",
        "!pip install pyspark\n",
        "!pip install findspark\n",
        "!pip install pandas"
      ]
    },
    {
      "cell_type": "code",
      "source": [
        "import findspark\n",
        "findspark.init()"
      ],
      "metadata": {
        "id": "DXrBFUnv8w9E"
      },
      "execution_count": 55,
      "outputs": []
    },
    {
      "cell_type": "code",
      "source": [
        "import pandas as pd\n",
        "from pyspark import SparkContext, SparkConf\n",
        "from pyspark.sql import SparkSession"
      ],
      "metadata": {
        "id": "Kv0ktC0B83lQ"
      },
      "execution_count": 56,
      "outputs": []
    },
    {
      "cell_type": "code",
      "source": [
        "# Creating a spark context class\n",
        "# sc = SparkContext()\n",
        "\n",
        "# Creating a spark session\n",
        "spark = SparkSession \\\n",
        "    .builder \\\n",
        "    .appName(\"Python Spark DataFrames basic example\") \\\n",
        "    .config(\"spark.some.config.option\", \"some-value\") \\\n",
        "    .getOrCreate()"
      ],
      "metadata": {
        "id": "hSyxWcoz84vc"
      },
      "execution_count": 57,
      "outputs": []
    },
    {
      "cell_type": "code",
      "source": [
        "spark"
      ],
      "metadata": {
        "colab": {
          "base_uri": "https://localhost:8080/",
          "height": 219
        },
        "id": "f2fxkoho86QZ",
        "outputId": "d36e9089-54e9-4b36-b1e0-6b1fb99baf02"
      },
      "execution_count": 58,
      "outputs": [
        {
          "output_type": "execute_result",
          "data": {
            "text/plain": [
              "<pyspark.sql.session.SparkSession at 0x7f4f2a5dcbb0>"
            ],
            "text/html": [
              "\n",
              "            <div>\n",
              "                <p><b>SparkSession - in-memory</b></p>\n",
              "                \n",
              "        <div>\n",
              "            <p><b>SparkContext</b></p>\n",
              "\n",
              "            <p><a href=\"http://857d369cd268:4040\">Spark UI</a></p>\n",
              "\n",
              "            <dl>\n",
              "              <dt>Version</dt>\n",
              "                <dd><code>v3.4.0</code></dd>\n",
              "              <dt>Master</dt>\n",
              "                <dd><code>local[*]</code></dd>\n",
              "              <dt>AppName</dt>\n",
              "                <dd><code>pyspark-shell</code></dd>\n",
              "            </dl>\n",
              "        </div>\n",
              "        \n",
              "            </div>\n",
              "        "
            ]
          },
          "metadata": {},
          "execution_count": 58
        }
      ]
    },
    {
      "cell_type": "code",
      "source": [
        "music = pd.read_csv('music_transformed.csv')\n",
        "sdf = spark.createDataFrame(music) "
      ],
      "metadata": {
        "id": "ebX2ujAr87fr"
      },
      "execution_count": 59,
      "outputs": []
    },
    {
      "cell_type": "code",
      "source": [
        "sdf.printSchema()"
      ],
      "metadata": {
        "id": "TNc2pcc689bC",
        "colab": {
          "base_uri": "https://localhost:8080/"
        },
        "outputId": "af66ff6c-db44-42ad-ab1c-c4ef5ae83d31"
      },
      "execution_count": 60,
      "outputs": [
        {
          "output_type": "stream",
          "name": "stdout",
          "text": [
            "root\n",
            " |-- Unnamed: 0: long (nullable = true)\n",
            " |-- Artist_Name: string (nullable = true)\n",
            " |-- Track_Name: string (nullable = true)\n",
            " |-- Popularity: double (nullable = true)\n",
            " |-- danceability: double (nullable = true)\n",
            " |-- energy: double (nullable = true)\n",
            " |-- loudness: double (nullable = true)\n",
            " |-- mode: long (nullable = true)\n",
            " |-- speechiness: double (nullable = true)\n",
            " |-- acousticness: double (nullable = true)\n",
            " |-- liveness: double (nullable = true)\n",
            " |-- valence: double (nullable = true)\n",
            " |-- tempo: double (nullable = true)\n",
            " |-- time_signature: double (nullable = true)\n",
            " |-- Genre: double (nullable = true)\n",
            " |-- duration_in_min: double (nullable = true)\n",
            "\n"
          ]
        }
      ]
    },
    {
      "cell_type": "markdown",
      "source": [
        "## b) Remove any songs that exceed 5 minutes"
      ],
      "metadata": {
        "id": "LO5N-RIV9js0"
      }
    },
    {
      "cell_type": "code",
      "source": [
        "sdf1 = sdf.filter((sdf.duration_in_min < 5))\n",
        "sdf1.show(10)"
      ],
      "metadata": {
        "id": "QpefpW9Z9jLL",
        "colab": {
          "base_uri": "https://localhost:8080/"
        },
        "outputId": "83c7e248-dfa3-40f9-fd82-27724f7fdb8a"
      },
      "execution_count": 61,
      "outputs": [
        {
          "output_type": "stream",
          "name": "stdout",
          "text": [
            "+----------+--------------------+--------------------+----------+------------+------+--------+----+-----------+------------+--------+-------+-------+--------------+-----+------------------+\n",
            "|Unnamed: 0|         Artist_Name|          Track_Name|Popularity|danceability|energy|loudness|mode|speechiness|acousticness|liveness|valence|  tempo|time_signature|Genre|   duration_in_min|\n",
            "+----------+--------------------+--------------------+----------+------------+------+--------+----+-----------+------------+--------+-------+-------+--------------+-----+------------------+\n",
            "|         0|          Bruno Mars|That's What I Lik...|      60.0|       0.854| 0.564|  -4.964|   1|     0.0485|      0.0171|  0.0849|  0.899|134.071|           4.0|  5.0|3.9099333333333335|\n",
            "|         1|              Boston|        Hitch a Ride|      54.0|       0.382| 0.814|   -7.23|   1|     0.0406|      0.0011|   0.101|  0.569|116.454|           4.0| 10.0|           4.19555|\n",
            "|         2|       The Raincoats|  No Side to Fall In|      35.0|       0.434| 0.614|  -8.334|   1|     0.0525|       0.486|   0.394|  0.787|147.681|           4.0|  6.0| 1.827783333333333|\n",
            "|         3|                Deno|Lingo (feat. J.I ...|      66.0|       0.853| 0.597|  -6.528|   0|     0.0555|      0.0212|   0.122|  0.569|107.033|           4.0|  5.0| 2.899466666666666|\n",
            "|         4|Red Hot Chili Pep...|Nobody Weird Like...|      53.0|       0.167| 0.975|  -4.279|   1|      0.216|     1.69E-4|   0.172| 0.0918| 199.06|           4.0| 10.0| 3.832666666666667|\n",
            "|         5|         The Stooges|Search and Destro...|      53.0|       0.235| 0.977|   0.878|   1|      0.107|     0.00353|   0.172|  0.241|152.952|           4.0|  6.0|3.4688833333333333|\n",
            "|         7|        Randy Travis|   On the Other Hand|      55.0|       0.657| 0.415|  -9.915|   1|      0.025|       0.175|   0.132|  0.347|  96.03|           4.0|  4.0|       3.105783333|\n",
            "|         8|Professional Murd...|                Slow|      29.0|       0.431| 0.776|  -5.403|   1|     0.0527|     2.21E-5|   0.179|  0.318|120.857|           4.0|  8.0|           3.96445|\n",
            "|         9|       Mohammed Rafi|Meri Dosti Mera Pyar|      11.0|       0.491| 0.563|  -8.588|   0|     0.0331|       0.957|   0.263|  0.843| 95.558|           4.0|  3.0|           4.33045|\n",
            "|        10|      Arctic Monkeys|The View From The...|      59.0|       0.387| 0.922|  -5.192|   0|     0.0674|     0.00487|   0.187|  0.417|146.478|           4.0| 10.0| 3.715783333333333|\n",
            "+----------+--------------------+--------------------+----------+------------+------+--------+----+-----------+------------+--------+-------+-------+--------------+-----+------------------+\n",
            "only showing top 10 rows\n",
            "\n"
          ]
        }
      ]
    },
    {
      "cell_type": "code",
      "source": [
        "spark.catalog.dropTempView(\"music\")\n",
        "sdf1.createOrReplaceTempView(\"music\")"
      ],
      "metadata": {
        "id": "aHXQ8Kvz9oya"
      },
      "execution_count": 62,
      "outputs": []
    },
    {
      "cell_type": "markdown",
      "source": [
        "## c) Display songs by J. Cole, Novo Amor and Anson Seabra"
      ],
      "metadata": {
        "id": "E-oQdzZV9ltP"
      }
    },
    {
      "cell_type": "code",
      "source": [
        "sdf2 = sdf1.filter((sdf.Artist_Name == 'J. Cole') | (sdf.Artist_Name == 'Novo Amor')| (sdf.Artist_Name == 'Anson Seabra'))\n",
        "sdf2.show(10)"
      ],
      "metadata": {
        "id": "tPgA8AhW9qkC",
        "colab": {
          "base_uri": "https://localhost:8080/"
        },
        "outputId": "64cd8167-4330-4586-c797-1e83e84d776c"
      },
      "execution_count": 71,
      "outputs": [
        {
          "output_type": "stream",
          "name": "stdout",
          "text": [
            "+----------+-----------+--------------------+----------+------------+------+--------+----+-----------+------------+--------+-------+-------+--------------+-----+------------------+\n",
            "|Unnamed: 0|Artist_Name|          Track_Name|Popularity|danceability|energy|loudness|mode|speechiness|acousticness|liveness|valence|  tempo|time_signature|Genre|   duration_in_min|\n",
            "+----------+-----------+--------------------+----------+------------+------+--------+----+-----------+------------+--------+-------+-------+--------------+-----+------------------+\n",
            "|      1525|    J. Cole|p u n c h i n ‚Äò...|      81.0|       0.769|  0.74|  -6.579|   0|      0.378|       0.197|   0.171|  0.692| 94.104|           4.0|  5.0|1.8763166666666664|\n",
            "|      2497|    J. Cole|p r i d e . i s ....|      85.0|       0.861| 0.656|  -7.867|   0|      0.425|       0.104|  0.0986|  0.331| 88.967|           4.0|  5.0| 3.636833333333333|\n",
            "|      4051|    J. Cole|   i n t e r l u d e|      81.0|        0.77| 0.574|  -5.525|   1|      0.106|      0.0617|   0.104|  0.104| 98.962|           3.0|  5.0| 2.217033333333333|\n",
            "|      4780|    J. Cole|m y . l i f e (wi...|      86.0|       0.597| 0.587|  -7.026|   0|      0.137|      0.0622|   0.214| 0.0753|140.021|           4.0|  9.0|            3.6467|\n",
            "+----------+-----------+--------------------+----------+------------+------+--------+----+-----------+------------+--------+-------+-------+--------------+-----+------------------+\n",
            "\n"
          ]
        }
      ]
    },
    {
      "cell_type": "markdown",
      "source": [
        "## d) How many songs are included in every category?"
      ],
      "metadata": {
        "id": "18LsttFd9sDT"
      }
    },
    {
      "cell_type": "code",
      "source": [
        "category_counts = sdf1.groupby(['Genre'])\\\n",
        ".agg({\"Genre\": \"count\"})\\\n",
        ".show()"
      ],
      "metadata": {
        "id": "2BmSQpCm9sFx",
        "colab": {
          "base_uri": "https://localhost:8080/"
        },
        "outputId": "ec25b643-16e8-42a9-9180-79e77a4dae2c"
      },
      "execution_count": 64,
      "outputs": [
        {
          "output_type": "stream",
          "name": "stdout",
          "text": [
            "+-----+------------+\n",
            "|Genre|count(Genre)|\n",
            "+-----+------------+\n",
            "|  8.0|         772|\n",
            "|  0.0|         301|\n",
            "|  7.0|         201|\n",
            "|  1.0|         698|\n",
            "|  4.0|         207|\n",
            "|  3.0|         140|\n",
            "|  2.0|         579|\n",
            "| 10.0|        2235|\n",
            "|  6.0|        1225|\n",
            "|  5.0|         681|\n",
            "|  9.0|        1079|\n",
            "+-----+------------+\n",
            "\n"
          ]
        }
      ]
    },
    {
      "cell_type": "markdown",
      "source": [
        "## e) Which artists dominated the charts?"
      ],
      "metadata": {
        "id": "alCole4T9sIC"
      }
    },
    {
      "cell_type": "code",
      "source": [
        "category_counts = sdf1.groupby(['Artist_Name'])\\\n",
        ".agg({\"Artist_Name\": \"count\",'Popularity':\"avg\"})\\\n",
        ".sort(\"avg(Popularity)\",\"count(Artist_Name)\",ascending=False)\\\n",
        ".show()"
      ],
      "metadata": {
        "id": "XDNbzrUB9sKo",
        "colab": {
          "base_uri": "https://localhost:8080/"
        },
        "outputId": "80f6b686-d4db-4958-b128-4ae34896994b"
      },
      "execution_count": 65,
      "outputs": [
        {
          "output_type": "stream",
          "name": "stdout",
          "text": [
            "+--------------------+------------------+---------------+\n",
            "|         Artist_Name|count(Artist_Name)|avg(Popularity)|\n",
            "+--------------------+------------------+---------------+\n",
            "|       Doja Cat, SZA|                 1|           95.0|\n",
            "|     Los Legendarios|                 1|           95.0|\n",
            "|Justin Bieber, Da...|                 1|           95.0|\n",
            "|The Weeknd, Arian...|                 1|           94.0|\n",
            "|               Riton|                 1|           94.0|\n",
            "|          The Weeknd|                 2|           93.5|\n",
            "|Riton, Nightcrawl...|                 1|           92.0|\n",
            "|          Tion Wayne|                 2|           90.0|\n",
            "|             Cardi B|                 1|           90.0|\n",
            "|                 SZA|                 2|           89.0|\n",
            "|Galantis, David G...|                 1|           89.0|\n",
            "|  Majestic, Boney M.|                 1|           89.0|\n",
            "|       The Kid LAROI|                 2|           88.5|\n",
            "|    Trinidad Cardona|                 1|           88.0|\n",
            "|     ATB, Topic, A7S|                 1|           88.0|\n",
            "|            Majestic|                 1|           88.0|\n",
            "|          Conan Gray|                 1|           88.0|\n",
            "|        Bella Poarch|                 2|           87.0|\n",
            "|            Ofenbach|                 1|           87.0|\n",
            "|   The Neighbourhood|                 1|           87.0|\n",
            "+--------------------+------------------+---------------+\n",
            "only showing top 20 rows\n",
            "\n"
          ]
        }
      ]
    },
    {
      "cell_type": "code",
      "source": [
        "sdf1.groupby(['Artist_Name'])\\\n",
        ".agg({\"Artist_Name\": \"count\",'Popularity':\"avg\"})\\\n",
        ".sort(\"count(Artist_Name)\",\"avg(Popularity)\",ascending=False)\\\n",
        ".show()"
      ],
      "metadata": {
        "id": "bsD9Y7VY9sMx",
        "colab": {
          "base_uri": "https://localhost:8080/"
        },
        "outputId": "72fdab1f-5f9b-4853-df19-a5b68d045040"
      },
      "execution_count": 66,
      "outputs": [
        {
          "output_type": "stream",
          "name": "stdout",
          "text": [
            "+--------------------+------------------+------------------+\n",
            "|         Artist_Name|count(Artist_Name)|   avg(Popularity)|\n",
            "+--------------------+------------------+------------------+\n",
            "|     Backstreet Boys|                35| 36.65714285714286|\n",
            "|      Britney Spears|                27| 50.56902356902357|\n",
            "|            Westlife|                26|7.6923076923076925|\n",
            "|  The Rolling Stones|                22| 48.38257575757575|\n",
            "|         The Beatles|                15| 68.11111111111111|\n",
            "|             Nirvana|                14| 64.21428571428571|\n",
            "|       Fleetwood Mac|                14|60.714285714285715|\n",
            "|                  U2|                12|             58.75|\n",
            "|     Lata Mangeshkar|                12|13.904761904761905|\n",
            "|               AC/DC|                11| 67.81818181818181|\n",
            "|      The Black Keys|                11|              57.0|\n",
            "|      Arctic Monkeys|                10|              70.0|\n",
            "|   Cage The Elephant|                10|              66.3|\n",
            "|         The Killers|                10| 64.66666666666667|\n",
            "|          Arlo Parks|                10|              58.4|\n",
            "|The Smashing Pump...|                10|              56.5|\n",
            "|King Gizzard & Th...|                10|              52.2|\n",
            "|   Young Stoner Life|                 9| 75.66666666666667|\n",
            "|Creedence Clearwa...|                 9| 66.87654320987654|\n",
            "|            Deftones|                 9|58.111111111111114|\n",
            "+--------------------+------------------+------------------+\n",
            "only showing top 20 rows\n",
            "\n"
          ]
        }
      ]
    },
    {
      "cell_type": "markdown",
      "source": [
        "## f) What songs would be considered for the “Billboard Top 10 Songs of the Year”? (mention their artists as well)"
      ],
      "metadata": {
        "id": "ugYA31XL933n"
      }
    },
    {
      "cell_type": "code",
      "source": [
        "sdf1.select(\"Track_Name\",\"Artist_Name\",\"Popularity\").distinct().sort(\"Popularity\",\"Track_Name\",ascending=False)\\\n",
        ".show(10)"
      ],
      "metadata": {
        "id": "VJfbnQuT94Nz",
        "colab": {
          "base_uri": "https://localhost:8080/"
        },
        "outputId": "2480d397-c652-4e30-9253-420d375e70ca"
      },
      "execution_count": 69,
      "outputs": [
        {
          "output_type": "stream",
          "name": "stdout",
          "text": [
            "+--------------------+--------------------+----------+\n",
            "|          Track_Name|         Artist_Name|Popularity|\n",
            "+--------------------+--------------------+----------+\n",
            "|            good 4 u|      Olivia Rodrigo|      99.0|\n",
            "|Kiss Me More (fea...|            Doja Cat|      98.0|\n",
            "|Astronaut In The ...|         Masked Wolf|      97.0|\n",
            "|              Butter|                 BTS|      96.0|\n",
            "|             deja vu|      Olivia Rodrigo|      95.0|\n",
            "| Permission to Dance|                 BTS|      95.0|\n",
            "|Peaches (feat. Da...|Justin Bieber, Da...|      95.0|\n",
            "|Kiss Me More (fea...|       Doja Cat, SZA|      95.0|\n",
            "|                Fiel|     Los Legendarios|      95.0|\n",
            "|             traitor|      Olivia Rodrigo|      94.0|\n",
            "+--------------------+--------------------+----------+\n",
            "only showing top 10 rows\n",
            "\n"
          ]
        }
      ]
    },
    {
      "cell_type": "markdown",
      "source": [
        "## g) Recommend at least 5 songs that can be played at a party"
      ],
      "metadata": {
        "id": "xc6w8y4397Yt"
      }
    },
    {
      "cell_type": "code",
      "source": [
        "sdf1.select(\"Track_Name\",\"Artist_Name\",\"danceability\",\"Popularity\",\"Popularity\",\"loudness\")\\\n",
        ".distinct().sort(\"danceability\",\"Popularity\",\"energy\",\"loudness\",ascending=False)\\\n",
        ".show(10)"
      ],
      "metadata": {
        "id": "aFWUcQo597l-",
        "colab": {
          "base_uri": "https://localhost:8080/"
        },
        "outputId": "303d8989-e13a-4626-ac9a-66b24bfb61a9"
      },
      "execution_count": 70,
      "outputs": [
        {
          "output_type": "stream",
          "name": "stdout",
          "text": [
            "+--------------------+--------------------+------------+----------+----------+--------+\n",
            "|          Track_Name|         Artist_Name|danceability|Popularity|Popularity|loudness|\n",
            "+--------------------+--------------------+------------+----------+----------+--------+\n",
            "|  Dancing in My Room|            347aidan|        0.98|      82.0|      82.0| -11.052|\n",
            "|  Dancing in My Room|            347aidan|       0.979|       3.0|       3.0| -11.056|\n",
            "|    OG Bobby Johnson|                QUE.|       0.974|      41.0|      41.0|  -3.879|\n",
            "|        The Get Back|        Flipp Dinero|       0.968|      57.0|      57.0|  -6.674|\n",
            "|SexyBack (feat. T...|   Justin Timberlake|       0.967|      80.0|      80.0|  -5.562|\n",
            "|SexyBack (feat. T...|Justin Timberlake...|       0.967|      78.0|      78.0|  -5.562|\n",
            "|Suspense Is Killi...|           Boy 8-Bit|       0.962|      19.0|      19.0| -11.178|\n",
            "|          Step It Up|               Latto|       0.961|      59.0|      59.0|   -5.76|\n",
            "|            Titanium|                Dave|       0.959|      77.0|      77.0|  -8.687|\n",
            "|                Talk|         Renni Rucci|       0.957|      62.0|      62.0|  -6.995|\n",
            "+--------------------+--------------------+------------+----------+----------+--------+\n",
            "only showing top 10 rows\n",
            "\n"
          ]
        }
      ]
    },
    {
      "cell_type": "code",
      "source": [],
      "metadata": {
        "id": "OD2Dl9FuCd3S"
      },
      "execution_count": 68,
      "outputs": []
    }
  ]
}